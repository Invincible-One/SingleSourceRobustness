{
 "cells": [
  {
   "cell_type": "markdown",
   "metadata": {},
   "source": [
    "#### Check code details of JTT"
   ]
  },
  {
   "cell_type": "code",
   "execution_count": 1,
   "metadata": {},
   "outputs": [
    {
     "name": "stdout",
     "output_type": "stream",
     "text": [
      "DEBUG PURPOSE len of the sampler is: 398959\n"
     ]
    }
   ],
   "source": [
    "#packages\n",
    "import os\n",
    "import sys\n",
    "\n",
    "import numpy as np\n",
    "import pandas as pd\n",
    "\n",
    "import torch\n",
    "import torchvision\n",
    "\n",
    "sys.path.append(\"..\")\n",
    "from data import get_data, get_loader, get_group_repr\n",
    "from utils.data import UpsampleSampler\n",
    "\n",
    "\n",
    "\n",
    "#settings\n",
    "res_dir = \"/scratch/ym2380/data/celebA/results\"\n",
    "\n",
    "ex_fname = \"11291120_5\"\n",
    "ex_conditional_epoch = 8\n",
    "ex_up_weight = 20\n",
    "\n",
    "loader_kwargs = {\n",
    "    \"batch_size\": 64,\n",
    "    \"num_workers\": 1,\n",
    "    \"pin_memory\": True,\n",
    "}\n",
    "\n",
    "class FakeArgs:\n",
    "    method = \"JTT\"\n",
    "    dataset = \"celebA\"\n",
    "    train_fraction = 1\n",
    "    model = \"resnet50\"\n",
    "    root = \"/scratch/ym2380/data/\"\n",
    "    exp_name = ex_fname\n",
    "    conditional_epoch = ex_conditional_epoch\n",
    "    up_weight = ex_up_weight\n",
    "args = FakeArgs()\n",
    "\n",
    "\n",
    "\n",
    "#data\n",
    "train_set = get_data(args, \"train\")\n",
    "train_loader = get_loader(dataset=train_set, train=True, args=args, **loader_kwargs)"
   ]
  },
  {
   "cell_type": "code",
   "execution_count": 2,
   "metadata": {},
   "outputs": [],
   "source": [
    "#orig stat\n",
    "def display_orig_stat(args=args, res_dir=res_dir):\n",
    "    fdf = pd.read_csv(os.path.join(res_dir, args.exp_name))\n",
    "    \n",
    "    res_name = f\"e{args.conditional_epoch:02d}\"\n",
    "    target_name = \"Blond_Hair\"\n",
    "    mask = fdf[res_name] != fdf[target_name]\n",
    "    upsample_indices = np.where(mask)[0]\n",
    "    \n",
    "    print(f\"Orig Data Stat:\\nTotal: {fdf.shape[0]}\\nPart2: {len(upsample_indices)}\\nRatio: {len(upsample_indices) / fdf.shape[0] * 100:.3f}%\\n\")\n",
    "    return upsample_indices\n",
    "    \n",
    "\n",
    "\n",
    "#new stat\n",
    "def display_new_stat1(upsample_indices, dataset=train_set, args=args):\n",
    "    upsample_sampler = UpsampleSampler(\n",
    "        upsample_indices = upsample_indices,\n",
    "        n_samples=len(dataset),\n",
    "        up_weight=args.up_weight,\n",
    "    )\n",
    "    print(len(upsample_sampler))\n",
    "    \n",
    "def display_new_stat2(dataloader):\n",
    "    num_data_points = 0\n",
    "    for batch_idx, batch in enumerate(dataloader):\n",
    "        batch = tuple(e for e in batch)\n",
    "        X, y, g, data_idx = batch[0], batch[1], batch[2], batch[3]\n",
    "        num_data_points += len(X)\n",
    "    print(f\"New Data Stat:\\nTotal: {num_data_points}\\n\")"
   ]
  },
  {
   "cell_type": "code",
   "execution_count": 3,
   "metadata": {},
   "outputs": [
    {
     "name": "stdout",
     "output_type": "stream",
     "text": [
      "Orig Data Stat:\n",
      "Total: 162770\n",
      "Part2: 12431\n",
      "Ratio: 7.637%\n",
      "\n"
     ]
    }
   ],
   "source": [
    "upsample_indices = display_orig_stat()"
   ]
  },
  {
   "cell_type": "code",
   "execution_count": 4,
   "metadata": {},
   "outputs": [
    {
     "name": "stdout",
     "output_type": "stream",
     "text": [
      "New Data Stat:\n",
      "Total: 398959\n",
      "\n"
     ]
    }
   ],
   "source": [
    "display_new_stat2(train_loader)"
   ]
  },
  {
   "cell_type": "code",
   "execution_count": 5,
   "metadata": {},
   "outputs": [
    {
     "name": "stdout",
     "output_type": "stream",
     "text": [
      "398959\n"
     ]
    }
   ],
   "source": [
    "display_new_stat1(upsample_indices)"
   ]
  },
  {
   "cell_type": "code",
   "execution_count": 6,
   "metadata": {},
   "outputs": [
    {
     "data": {
      "text/plain": [
       "398959"
      ]
     },
     "execution_count": 6,
     "metadata": {},
     "output_type": "execute_result"
    }
   ],
   "source": [
    "162770 - 12431 + 12431 * 20"
   ]
  },
  {
   "cell_type": "code",
   "execution_count": null,
   "metadata": {},
   "outputs": [],
   "source": []
  }
 ],
 "metadata": {
  "kernelspec": {
   "display_name": "my_env",
   "language": "python",
   "name": "my_env"
  },
  "language_info": {
   "codemirror_mode": {
    "name": "ipython",
    "version": 3
   },
   "file_extension": ".py",
   "mimetype": "text/x-python",
   "name": "python",
   "nbconvert_exporter": "python",
   "pygments_lexer": "ipython3",
   "version": "3.10.9"
  }
 },
 "nbformat": 4,
 "nbformat_minor": 4
}
